{
  "nbformat": 4,
  "nbformat_minor": 0,
  "metadata": {
    "colab": {
      "provenance": [],
      "gpuType": "T4",
      "authorship_tag": "ABX9TyPrFMvlxgCbINmA1VSKJXoz"
    },
    "kernelspec": {
      "name": "python3",
      "display_name": "Python 3"
    },
    "language_info": {
      "name": "python"
    },
    "accelerator": "GPU"
  },
  "cells": [
    {
      "cell_type": "code",
      "execution_count": 3,
      "metadata": {
        "id": "Vkx_w8ezUoT5"
      },
      "outputs": [],
      "source": [
        "import pandas as pd\n",
        "import numpy as np\n",
        "from sklearn.model_selection import train_test_split\n",
        "from sklearn.ensemble import RandomForestRegressor, GradientBoostingRegressor\n",
        "from sklearn.metrics import mean_squared_error, mean_absolute_error, r2_score\n",
        "from statsmodels.tsa.arima.model import ARIMA\n",
        "from xgboost import XGBRegressor\n",
        "import matplotlib.pyplot as plt"
      ]
    },
    {
      "cell_type": "code",
      "source": [
        "# Load the data\n",
        "df = pd.read_csv('processed_odds_data.csv')"
      ],
      "metadata": {
        "id": "9hscTdU_WRB0"
      },
      "execution_count": 4,
      "outputs": []
    },
    {
      "cell_type": "code",
      "source": [
        "# Convert to datetime and extract features\n",
        "df['datetime'] = pd.to_datetime(df['Date'] + ' ' + df['Time'])\n",
        "df = df.sort_values('datetime').reset_index(drop=True)"
      ],
      "metadata": {
        "id": "tBEloCtvWWDp"
      },
      "execution_count": 5,
      "outputs": []
    },
    {
      "cell_type": "code",
      "source": [
        "# Create time-based features\n",
        "df['time_since_start'] = (df['datetime'] - df['datetime'].min()).dt.total_seconds()\n",
        "df['hour'] = df['datetime'].dt.hour\n",
        "df['minute'] = df['datetime'].dt.minute\n",
        "df['second'] = df['datetime'].dt.second\n",
        "df['time_of_day'] = df['hour'] + df['minute']/60 + df['second']/3600"
      ],
      "metadata": {
        "id": "AxChGz1NWcFV"
      },
      "execution_count": 6,
      "outputs": []
    },
    {
      "cell_type": "code",
      "source": [
        "# Create lag features\n",
        "for lag in [1, 2, 3, 5, 10]:\n",
        "    df[f'lag_{lag}'] = df['ODDs'].shift(lag)"
      ],
      "metadata": {
        "id": "wQdnDz8pWgFZ"
      },
      "execution_count": 7,
      "outputs": []
    },
    {
      "cell_type": "code",
      "source": [
        "# Create rolling statistics\n",
        "df['rolling_mean_5'] = df['ODDs'].rolling(5).mean()\n",
        "df['rolling_std_5'] = df['ODDs'].rolling(5).std()\n",
        "df['rolling_max_5'] = df['ODDs'].rolling(5).max()"
      ],
      "metadata": {
        "id": "tMRFsz85WjZs"
      },
      "execution_count": 8,
      "outputs": []
    },
    {
      "cell_type": "code",
      "source": [
        "# Drop rows with NaN values from feature creation\n",
        "df = df.dropna()"
      ],
      "metadata": {
        "id": "zcq59sJGWkmN"
      },
      "execution_count": 9,
      "outputs": []
    },
    {
      "cell_type": "code",
      "source": [
        "# Split data into features and target\n",
        "X = df.drop(['ODDs', 'Date', 'Time', 'datetime'], axis=1)\n",
        "y = df['ODDs']"
      ],
      "metadata": {
        "id": "uDnLdEkBWnpn"
      },
      "execution_count": 10,
      "outputs": []
    },
    {
      "cell_type": "code",
      "source": [
        "# Split into train and test sets\n",
        "X_train, X_test, y_train, y_test = train_test_split(X, y, test_size=0.2, shuffle=False)"
      ],
      "metadata": {
        "id": "7gsqrdROWqea"
      },
      "execution_count": 11,
      "outputs": []
    },
    {
      "cell_type": "code",
      "source": [
        "# Function to evaluate models\n",
        "def evaluate_model(model, X_train, X_test, y_train, y_test):\n",
        "    model.fit(X_train, y_train)\n",
        "    preds = model.predict(X_test)\n",
        "\n",
        "    mse = mean_squared_error(y_test, preds)\n",
        "    mae = mean_absolute_error(y_test, preds)\n",
        "    r2 = r2_score(y_test, preds)\n",
        "\n",
        "    return {\n",
        "        'model': model.__class__.__name__,\n",
        "        'mse': mse,\n",
        "        'mae': mae,\n",
        "        'r2': r2,\n",
        "        'predictions': preds\n",
        "    }"
      ],
      "metadata": {
        "id": "FhH0B8xzWx0o"
      },
      "execution_count": 12,
      "outputs": []
    },
    {
      "cell_type": "code",
      "source": [
        "# Try different models\n",
        "models = [\n",
        "    RandomForestRegressor(n_estimators=100, random_state=42),\n",
        "    GradientBoostingRegressor(n_estimators=100, random_state=42),\n",
        "    XGBRegressor(n_estimators=100, random_state=42),\n",
        "    ARIMA(order=(5,1,0))  # Will handle separately\n",
        "]\n"
      ],
      "metadata": {
        "id": "21w6DzBOWzHt",
        "colab": {
          "base_uri": "https://localhost:8080/",
          "height": 193
        },
        "outputId": "ed383af6-f775-4942-af7f-280d03f4bee3"
      },
      "execution_count": 13,
      "outputs": [
        {
          "output_type": "error",
          "ename": "TypeError",
          "evalue": "ARIMA.__init__() missing 1 required positional argument: 'endog'",
          "traceback": [
            "\u001b[0;31m---------------------------------------------------------------------------\u001b[0m",
            "\u001b[0;31mTypeError\u001b[0m                                 Traceback (most recent call last)",
            "\u001b[0;32m<ipython-input-13-75586fd034f5>\u001b[0m in \u001b[0;36m<cell line: 0>\u001b[0;34m()\u001b[0m\n\u001b[1;32m      4\u001b[0m     \u001b[0mGradientBoostingRegressor\u001b[0m\u001b[0;34m(\u001b[0m\u001b[0mn_estimators\u001b[0m\u001b[0;34m=\u001b[0m\u001b[0;36m100\u001b[0m\u001b[0;34m,\u001b[0m \u001b[0mrandom_state\u001b[0m\u001b[0;34m=\u001b[0m\u001b[0;36m42\u001b[0m\u001b[0;34m)\u001b[0m\u001b[0;34m,\u001b[0m\u001b[0;34m\u001b[0m\u001b[0;34m\u001b[0m\u001b[0m\n\u001b[1;32m      5\u001b[0m     \u001b[0mXGBRegressor\u001b[0m\u001b[0;34m(\u001b[0m\u001b[0mn_estimators\u001b[0m\u001b[0;34m=\u001b[0m\u001b[0;36m100\u001b[0m\u001b[0;34m,\u001b[0m \u001b[0mrandom_state\u001b[0m\u001b[0;34m=\u001b[0m\u001b[0;36m42\u001b[0m\u001b[0;34m)\u001b[0m\u001b[0;34m,\u001b[0m\u001b[0;34m\u001b[0m\u001b[0;34m\u001b[0m\u001b[0m\n\u001b[0;32m----> 6\u001b[0;31m     \u001b[0mARIMA\u001b[0m\u001b[0;34m(\u001b[0m\u001b[0morder\u001b[0m\u001b[0;34m=\u001b[0m\u001b[0;34m(\u001b[0m\u001b[0;36m5\u001b[0m\u001b[0;34m,\u001b[0m\u001b[0;36m1\u001b[0m\u001b[0;34m,\u001b[0m\u001b[0;36m0\u001b[0m\u001b[0;34m)\u001b[0m\u001b[0;34m)\u001b[0m  \u001b[0;31m# Will handle separately\u001b[0m\u001b[0;34m\u001b[0m\u001b[0;34m\u001b[0m\u001b[0m\n\u001b[0m\u001b[1;32m      7\u001b[0m ]\n",
            "\u001b[0;31mTypeError\u001b[0m: ARIMA.__init__() missing 1 required positional argument: 'endog'"
          ]
        }
      ]
    },
    {
      "source": [
        "# Try different models\n",
        "models = [\n",
        "    RandomForestRegressor(n_estimators=100, random_state=42),\n",
        "    GradientBoostingRegressor(n_estimators=100, random_state=42),\n",
        "    XGBRegressor(n_estimators=100, random_state=42),\n",
        "    # ARIMA(order=(5,1,0))  # Will handle separately - This line was causing the error\n",
        "    # Instead, we'll initialize it later with the data:\n",
        "    'ARIMA'  # Placeholder, will initialize with data before fitting\n",
        "]"
      ],
      "cell_type": "code",
      "metadata": {
        "id": "fXOSgX_6Zm5c"
      },
      "execution_count": 14,
      "outputs": []
    },
    {
      "cell_type": "code",
      "source": [
        "# Evaluate non-ARIMA models\n",
        "results = []\n",
        "for model in models[:-1]:\n",
        "    results.append(evaluate_model(model, X_train, X_test, y_train, y_test))"
      ],
      "metadata": {
        "id": "_OjbQ3TNW6RX"
      },
      "execution_count": 15,
      "outputs": []
    },
    {
      "cell_type": "code",
      "source": [
        "\"\"\"# Evaluate ARIMA separately (time series specific)\n",
        "arima_model = ARIMA(y_train, order=(5,1,0))\n",
        "arima_fit = arima_model.fit()\n",
        "arima_preds = arima_fit.forecast(steps=len(y_test))\n",
        "\n",
        "results.append({\n",
        "    'model': 'ARIMA',\n",
        "    'mse': mean_squared_error(y_test, arima_preds),\n",
        "    'mae': mean_absolute_error(y_test, arima_preds),\n",
        "    'r2': r2_score(y_test, arima_preds),\n",
        "    'predictions': arima_preds\n",
        "})\n",
        "\"\"\""
      ],
      "metadata": {
        "id": "xk3UJYSHW7Uu"
      },
      "execution_count": null,
      "outputs": []
    },
    {
      "cell_type": "code",
      "source": [
        "# Evaluate ARIMA separately (time series specific)\n",
        "arima_model = ARIMA(y_train, order=(5,1,0)) # Now we're providing the 'endog' (y_train)\n",
        "arima_fit = arima_model.fit()\n",
        "arima_preds = arima_fit.forecast(steps=len(y_test))\n",
        "\n",
        "results.append({\n",
        "    'model': 'ARIMA',\n",
        "    'mse': mean_squared_error(y_test, arima_preds),\n",
        "    'mae': mean_absolute_error(y_test, arima_preds),\n",
        "    'r2': r2_score(y_test, arima_preds),\n",
        "    'predictions': arima_preds\n",
        "})"
      ],
      "metadata": {
        "colab": {
          "base_uri": "https://localhost:8080/"
        },
        "id": "4BeYs2QQZ08_",
        "outputId": "2da49562-19e6-4f9e-9812-5d3530d77807"
      },
      "execution_count": 16,
      "outputs": [
        {
          "output_type": "stream",
          "name": "stderr",
          "text": [
            "/usr/local/lib/python3.11/dist-packages/statsmodels/tsa/base/tsa_model.py:473: ValueWarning: An unsupported index was provided. As a result, forecasts cannot be generated. To use the model for forecasting, use one of the supported classes of index.\n",
            "  self._init_dates(dates, freq)\n",
            "/usr/local/lib/python3.11/dist-packages/statsmodels/tsa/base/tsa_model.py:473: ValueWarning: An unsupported index was provided. As a result, forecasts cannot be generated. To use the model for forecasting, use one of the supported classes of index.\n",
            "  self._init_dates(dates, freq)\n",
            "/usr/local/lib/python3.11/dist-packages/statsmodels/tsa/base/tsa_model.py:473: ValueWarning: An unsupported index was provided. As a result, forecasts cannot be generated. To use the model for forecasting, use one of the supported classes of index.\n",
            "  self._init_dates(dates, freq)\n",
            "/usr/local/lib/python3.11/dist-packages/statsmodels/tsa/base/tsa_model.py:837: ValueWarning: No supported index is available. Prediction results will be given with an integer index beginning at `start`.\n",
            "  return get_prediction_index(\n",
            "/usr/local/lib/python3.11/dist-packages/statsmodels/tsa/base/tsa_model.py:837: FutureWarning: No supported index is available. In the next version, calling this method in a model without a supported index will result in an exception.\n",
            "  return get_prediction_index(\n"
          ]
        }
      ]
    },
    {
      "cell_type": "code",
      "source": [
        "# Find best model based on MSE\n",
        "best_model_result = min(results, key=lambda x: x['mse'])\n",
        "print(f\"Best model: {best_model_result['model']}\")\n",
        "print(f\"MSE: {best_model_result['mse']:.4f}\")\n",
        "print(f\"MAE: {best_model_result['mae']:.4f}\")\n",
        "print(f\"R2: {best_model_result['r2']:.4f}\")"
      ],
      "metadata": {
        "id": "QT6Z8_B-W-xh",
        "colab": {
          "base_uri": "https://localhost:8080/"
        },
        "outputId": "7b5551e2-61d1-4317-f4db-304dc7bfd667"
      },
      "execution_count": 17,
      "outputs": [
        {
          "output_type": "stream",
          "name": "stdout",
          "text": [
            "Best model: GradientBoostingRegressor\n",
            "MSE: 9722.5364\n",
            "MAE: 10.3670\n",
            "R2: 0.4162\n"
          ]
        }
      ]
    },
    {
      "source": [
        "# Retrain best model on full data\n",
        "if best_model_result['model'] != 'ARIMA':\n",
        "    best_model = [m for m in models if m.__class__.__name__ == best_model_result['model']][0]\n",
        "    best_model.fit(X, y)\n",
        "\n",
        "    # Make predictions (next 10 odds)\n",
        "    last_features = X.iloc[-1:].copy()\n",
        "    predictions = []\n",
        "\n",
        "    for _ in range(10):\n",
        "        # Update lag features for next prediction\n",
        "        pred = best_model.predict(last_features)[0]\n",
        "        predictions.append(pred)\n",
        "\n",
        "        # Shift lags for next prediction\n",
        "        # Change: Use only the defined lags\n",
        "        for lag in [1, 2, 3, 5, 10]:\n",
        "            if lag == 1:\n",
        "                last_features[f'lag_{lag}'] = pred\n",
        "            # Change: Check if the previous lag exists to avoid KeyError\n",
        "            elif f'lag_{lag-1}' in last_features.columns:\n",
        "                last_features[f'lag_{lag}'] = last_features[f'lag_{lag-1}'].values[0]\n",
        "\n",
        "        # Update rolling stats (simplified approach)\n",
        "        last_features['rolling_mean_5'] = (last_features['lag_1'] + last_features['lag_2'] +\n",
        "                                         last_features['lag_3'] + last_features['lag_5'])/4\n",
        "        # Can add more sophisticated rolling stat updates"
      ],
      "cell_type": "code",
      "metadata": {
        "id": "Hqp-bIuuap8h"
      },
      "execution_count": 19,
      "outputs": []
    },
    {
      "cell_type": "code",
      "source": [
        "# Save results to CSV\n",
        "results_df = pd.DataFrame({\n",
        "    'Actual': y_test.values,\n",
        "    'Predicted': best_model_result['predictions']\n",
        "})\n",
        "\n",
        "if best_model_result['model'] != 'ARIMA':\n",
        "    future_preds = pd.DataFrame({\n",
        "        'Future_Prediction': predictions\n",
        "    })\n",
        "    future_preds.to_csv('future_odd_predictions.csv', index=False)\n",
        "\n",
        "results_df.to_csv('odd_prediction_results.csv', index=False)\n",
        "\n",
        "# Plot actual vs predicted\n",
        "plt.figure(figsize=(12, 6))\n",
        "plt.plot(y_test.values, label='Actual')\n",
        "plt.plot(best_model_result['predictions'], label='Predicted')\n",
        "plt.title(f\"{best_model_result['model']} Predictions vs Actual\")\n",
        "plt.xlabel('Sample')\n",
        "plt.ylabel('Odd Value')\n",
        "plt.legend()\n",
        "plt.savefig('predictions_vs_actual.png')\n",
        "plt.show()"
      ],
      "metadata": {
        "id": "WlDBxL0zXdtu",
        "colab": {
          "base_uri": "https://localhost:8080/",
          "height": 349
        },
        "outputId": "9e265ea6-b33b-46b3-daf2-882da331a6f0"
      },
      "execution_count": 20,
      "outputs": [
        {
          "output_type": "display_data",
          "data": {
            "text/plain": [
              "<Figure size 1200x600 with 1 Axes>"
            ],
            "image/png": "[encoded data removed]"
          },
          "metadata": {}
        }
      ]
    }
  ]
}